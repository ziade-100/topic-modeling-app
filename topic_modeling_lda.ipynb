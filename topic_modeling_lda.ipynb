{
 "cells": [
  {
   "cell_type": "markdown",
   "id": "a2ecd165-b7bf-4d82-8c05-2848c6e5c38a",
   "metadata": {},
   "source": [
    "### Topic Modeling "
   ]
  },
  {
   "cell_type": "code",
   "execution_count": 9,
   "id": "a4b14d7e-d081-49fb-b571-afa6d5561f01",
   "metadata": {},
   "outputs": [],
   "source": [
    "import nltk\n",
    "from nltk.tokenize import word_tokenize\n",
    "from nltk.corpus import stopwords\n",
    "from gensim import corpora, models\n",
    "import pyLDAvis.gensim_models as gensimvis\n",
    "import pyLDAvis\n",
    "import matplotlib.pyplot as plt\n",
    "import pandas as pd"
   ]
  },
  {
   "cell_type": "code",
   "execution_count": 26,
   "id": "b058bb64-670c-4a65-8b5c-8071f21ec16e",
   "metadata": {},
   "outputs": [
    {
     "name": "stderr",
     "output_type": "stream",
     "text": [
      "[nltk_data] Downloading package punkt to /Users/ziade/nltk_data...\n",
      "[nltk_data]   Package punkt is already up-to-date!\n",
      "[nltk_data] Downloading package stopwords to /Users/ziade/nltk_data...\n",
      "[nltk_data]   Package stopwords is already up-to-date!\n"
     ]
    }
   ],
   "source": [
    "# Download stopwords\n",
    "nltk.download(\"punkt\")\n",
    "nltk.download(\"stopwords\")\n",
    "stop_words = set(stopwords.words(\"italian\"))"
   ]
  },
  {
   "cell_type": "markdown",
   "id": "e833983f",
   "metadata": {},
   "source": [
    "2. Text Processing "
   ]
  },
  {
   "cell_type": "code",
   "execution_count": 11,
   "id": "e544cda6",
   "metadata": {},
   "outputs": [],
   "source": [
    "def preprocess_text(text):\n",
    "    tokens = word_tokenize(text.lower())  # Tokenize and convert to lowercase\n",
    "    tokens = [word for word in tokens if word.isalnum() and word not in stop_words]  # Remove stopwords and punctuation\n",
    "    return tokens\n"
   ]
  },
  {
   "cell_type": "code",
   "execution_count": 12,
   "id": "f5e370a6",
   "metadata": {},
   "outputs": [],
   "source": [
    "def train_lda(documents, num_topics=3):\n",
    "    processed_docs = [preprocess_text(doc) for doc in documents]\n",
    "    dictionary = corpora.Dictionary(processed_docs)\n",
    "    corpus = [dictionary.doc2bow(doc) for doc in processed_docs]\n",
    "    lda_model = models.LdaModel(corpus, num_topics=num_topics, id2word=dictionary, passes=10)\n",
    "    return lda_model, corpus, dictionary\n"
   ]
  },
  {
   "cell_type": "code",
   "execution_count": 22,
   "id": "5838760b",
   "metadata": {},
   "outputs": [
    {
     "data": {
      "text/plain": [
       "['sample_2017.xlsx',\n",
       " '.DS_Store',\n",
       " 'data_cleaning.ipynb',\n",
       " 'dataset',\n",
       " '.env',\n",
       " 'sample_2017.csv',\n",
       " '.gradio',\n",
       " '.ipynb_checkpoints',\n",
       " 'ssm17 soluzioni.pdf']"
      ]
     },
     "execution_count": 22,
     "metadata": {},
     "output_type": "execute_result"
    }
   ],
   "source": [
    "import os \n",
    "\n",
    "dr = '/Users/ziade/Desktop/DataScience/Siiam_projects/llm_finetuning'\n",
    "os.listdir(dr)\n"
   ]
  },
  {
   "cell_type": "code",
   "execution_count": 37,
   "id": "47d5e7ab",
   "metadata": {},
   "outputs": [
    {
     "data": {
      "text/html": [
       "<div>\n",
       "<style scoped>\n",
       "    .dataframe tbody tr th:only-of-type {\n",
       "        vertical-align: middle;\n",
       "    }\n",
       "\n",
       "    .dataframe tbody tr th {\n",
       "        vertical-align: top;\n",
       "    }\n",
       "\n",
       "    .dataframe thead th {\n",
       "        text-align: right;\n",
       "    }\n",
       "</style>\n",
       "<table border=\"1\" class=\"dataframe\">\n",
       "  <thead>\n",
       "    <tr style=\"text-align: right;\">\n",
       "      <th></th>\n",
       "      <th>questionID</th>\n",
       "      <th>testyear</th>\n",
       "      <th>numberintest</th>\n",
       "      <th>picture_provided</th>\n",
       "      <th>question_text</th>\n",
       "      <th>picture_link</th>\n",
       "      <th>option_a</th>\n",
       "      <th>option_b</th>\n",
       "      <th>option_c</th>\n",
       "      <th>option_d</th>\n",
       "      <th>option_e</th>\n",
       "      <th>correct_option</th>\n",
       "      <th>correct_fulltext</th>\n",
       "    </tr>\n",
       "  </thead>\n",
       "  <tbody>\n",
       "    <tr>\n",
       "      <th>0</th>\n",
       "      <td>IT0001</td>\n",
       "      <td>2017</td>\n",
       "      <td>1</td>\n",
       "      <td>No</td>\n",
       "      <td>[Una donna di 27 anni, asintomatica, in buone ...</td>\n",
       "      <td>NaN</td>\n",
       "      <td>Non vi è indicazione all'avvio immediato di al...</td>\n",
       "      <td>Avviare terapia con clopidogrel</td>\n",
       "      <td>Avviare terapia con warfarin</td>\n",
       "      <td>Avviare terapia con eparina a basso peso molec...</td>\n",
       "      <td>Avviare terapia con prednisone a basse dosi</td>\n",
       "      <td>a</td>\n",
       "      <td>Non vi è indicazione all'avvio immediato di al...</td>\n",
       "    </tr>\n",
       "    <tr>\n",
       "      <th>1</th>\n",
       "      <td>IT0002</td>\n",
       "      <td>2017</td>\n",
       "      <td>2</td>\n",
       "      <td>No</td>\n",
       "      <td>Con quale termine si definisce la presenza di ...</td>\n",
       "      <td>NaN</td>\n",
       "      <td>Coristoma</td>\n",
       "      <td>Amartoma</td>\n",
       "      <td>Differenziazione anomala</td>\n",
       "      <td>Tiloma</td>\n",
       "      <td>Cordoma</td>\n",
       "      <td>a</td>\n",
       "      <td>Coristoma</td>\n",
       "    </tr>\n",
       "    <tr>\n",
       "      <th>2</th>\n",
       "      <td>IT0003</td>\n",
       "      <td>2017</td>\n",
       "      <td>3</td>\n",
       "      <td>No</td>\n",
       "      <td>Quale delle seguenti è una traslocazione tipic...</td>\n",
       "      <td>NaN</td>\n",
       "      <td>t(11;22)</td>\n",
       "      <td>t(14;18)</td>\n",
       "      <td>t(8;14)</td>\n",
       "      <td>t(9;22)</td>\n",
       "      <td>t(11;18)</td>\n",
       "      <td>a</td>\n",
       "      <td>t(11;22)</td>\n",
       "    </tr>\n",
       "    <tr>\n",
       "      <th>3</th>\n",
       "      <td>IT0004</td>\n",
       "      <td>2017</td>\n",
       "      <td>4</td>\n",
       "      <td>No</td>\n",
       "      <td>[ Una donna di 35 anni, nullipara, si reca dal...</td>\n",
       "      <td>NaN</td>\n",
       "      <td>HPV</td>\n",
       "      <td>HIV</td>\n",
       "      <td>Neisseria gonorrhoeae</td>\n",
       "      <td>HSV-1</td>\n",
       "      <td>HSV-2</td>\n",
       "      <td>a</td>\n",
       "      <td>HPV</td>\n",
       "    </tr>\n",
       "    <tr>\n",
       "      <th>4</th>\n",
       "      <td>IT0005</td>\n",
       "      <td>2017</td>\n",
       "      <td>5</td>\n",
       "      <td>No</td>\n",
       "      <td>Come viene standardizzata attualmente la lettu...</td>\n",
       "      <td>NaN</td>\n",
       "      <td>Sistema di Bethesda</td>\n",
       "      <td>Sistema di Papanicolau</td>\n",
       "      <td>Linee guida di Tokio</td>\n",
       "      <td>Criteri di Glasgow</td>\n",
       "      <td>Livelli di Berg</td>\n",
       "      <td>a</td>\n",
       "      <td>Sistema di Bethesda</td>\n",
       "    </tr>\n",
       "  </tbody>\n",
       "</table>\n",
       "</div>"
      ],
      "text/plain": [
       "  questionID  testyear  numberintest picture_provided  \\\n",
       "0     IT0001      2017             1               No   \n",
       "1     IT0002      2017             2               No   \n",
       "2     IT0003      2017             3               No   \n",
       "3     IT0004      2017             4               No   \n",
       "4     IT0005      2017             5               No   \n",
       "\n",
       "                                       question_text picture_link  \\\n",
       "0  [Una donna di 27 anni, asintomatica, in buone ...          NaN   \n",
       "1  Con quale termine si definisce la presenza di ...          NaN   \n",
       "2  Quale delle seguenti è una traslocazione tipic...          NaN   \n",
       "3  [ Una donna di 35 anni, nullipara, si reca dal...          NaN   \n",
       "4  Come viene standardizzata attualmente la lettu...          NaN   \n",
       "\n",
       "                                            option_a  \\\n",
       "0  Non vi è indicazione all'avvio immediato di al...   \n",
       "1                                          Coristoma   \n",
       "2                                           t(11;22)   \n",
       "3                                                HPV   \n",
       "4                                Sistema di Bethesda   \n",
       "\n",
       "                          option_b                      option_c  \\\n",
       "0  Avviare terapia con clopidogrel  Avviare terapia con warfarin   \n",
       "1                         Amartoma      Differenziazione anomala   \n",
       "2                         t(14;18)                       t(8;14)   \n",
       "3                              HIV         Neisseria gonorrhoeae   \n",
       "4           Sistema di Papanicolau          Linee guida di Tokio   \n",
       "\n",
       "                                            option_d  \\\n",
       "0  Avviare terapia con eparina a basso peso molec...   \n",
       "1                                             Tiloma   \n",
       "2                                            t(9;22)   \n",
       "3                                              HSV-1   \n",
       "4                                 Criteri di Glasgow   \n",
       "\n",
       "                                      option_e correct_option  \\\n",
       "0  Avviare terapia con prednisone a basse dosi              a   \n",
       "1                                      Cordoma              a   \n",
       "2                                     t(11;18)              a   \n",
       "3                                        HSV-2              a   \n",
       "4                              Livelli di Berg              a   \n",
       "\n",
       "                                    correct_fulltext  \n",
       "0  Non vi è indicazione all'avvio immediato di al...  \n",
       "1                                          Coristoma  \n",
       "2                                           t(11;22)  \n",
       "3                                                HPV  \n",
       "4                                Sistema di Bethesda  "
      ]
     },
     "execution_count": 37,
     "metadata": {},
     "output_type": "execute_result"
    }
   ],
   "source": [
    "df = pd.read_csv(f'{dr}/sample_2017.csv')\n",
    "df.head()"
   ]
  },
  {
   "cell_type": "code",
   "execution_count": 32,
   "id": "629bf7ce",
   "metadata": {},
   "outputs": [],
   "source": [
    "# preprocess the text\n",
    "#df['question_text'] = df['question_text'].apply(preprocess_text)\n",
    "\n",
    "df['question_text'] = df['question_text'].apply(lambda x: ' '.join(x))"
   ]
  },
  {
   "cell_type": "code",
   "execution_count": 40,
   "id": "0eb97b4b",
   "metadata": {},
   "outputs": [],
   "source": [
    "text_list = df['question_text'].tolist()\n",
    "single_text = ' '.join(text_list)"
   ]
  },
  {
   "cell_type": "code",
   "execution_count": 33,
   "id": "2568840c",
   "metadata": {},
   "outputs": [],
   "source": [
    "df['question_text'] = df['question_text'].apply(preprocess_text)\n"
   ]
  },
  {
   "cell_type": "code",
   "execution_count": 16,
   "id": "d4cf26ae",
   "metadata": {},
   "outputs": [],
   "source": [
    "sample_text = \"\"\" \n",
    "**Artificial Intelligence (AI): A Mid-Level Overview**\n",
    "\n",
    "Artificial Intelligence (AI) is a branch of computer science that focuses on creating systems capable of performing tasks that typically require human intelligence. These tasks include learning from data, recognizing patterns, understanding natural language, solving problems, and making decisions. AI is driven by various technologies, including machine learning, deep learning, neural networks, and natural language processing.\n",
    "\n",
    "One of the key components of AI is machine learning, which enables computers to improve their performance by analyzing large amounts of data without explicit programming. Deep learning, a subset of machine learning, utilizes artificial neural networks to process complex data, making it particularly effective for image and speech recognition.\n",
    "\n",
    "AI is widely used in multiple fields, such as finance, cybersecurity, manufacturing, transportation, and entertainment. Autonomous vehicles, recommendation systems, virtual assistants, and fraud detection systems all rely on AI technologies. Ethical concerns regarding AI include issues related to data privacy, bias in decision-making, and the impact of automation on employment.\n",
    "\n",
    "Researchers and developers continue to refine AI models, aiming to enhance their efficiency, accuracy, and adaptability. As AI advances, it holds the potential to revolutionize industries and improve productivity in ways previously unimaginable.\n",
    "\n",
    "---\n",
    "\n",
    "**Understanding Healthcare: A Mid-Level Overview**\n",
    "\n",
    "Healthcare refers to the organized efforts and systems designed to maintain or improve people’s physical and mental well-being. It encompasses a wide range of services, including disease prevention, diagnosis, treatment, rehabilitation, and health education. Healthcare is provided by medical professionals such as doctors, nurses, pharmacists, and therapists across various settings, including hospitals, clinics, and long-term care facilities.\n",
    "\n",
    "The healthcare system consists of three primary components: primary, secondary, and tertiary care. **Primary care** is the first level of contact for patients, dealing with general health concerns, preventive measures, and routine check-ups. **Secondary care** includes specialized services such as cardiology, dermatology, and orthopedics, often provided by hospitals and specialists. **Tertiary care** involves highly specialized medical treatments, such as organ transplants and cancer therapies, typically available in advanced medical centers.\n",
    "\n",
    "Public health initiatives play a crucial role in healthcare by promoting wellness, controlling disease outbreaks, and ensuring access to vaccinations. Governments, private organizations, and international institutions work together to improve healthcare infrastructure and policies. Key challenges in healthcare include accessibility, affordability, medical research advancements, and managing chronic diseases like diabetes and heart disease.\n",
    "\n",
    "As technology evolves, healthcare is increasingly integrating digital solutions, such as electronic health records (EHRs), telemedicine, and personalized medicine, to enhance efficiency and patient outcomes. Ensuring quality care while addressing global health disparities remains a significant priority for healthcare professionals and policymakers.\n",
    "\n",
    "\n",
    "\n",
    "\"\"\""
   ]
  },
  {
   "cell_type": "code",
   "execution_count": 41,
   "id": "9388bdf3",
   "metadata": {},
   "outputs": [
    {
     "name": "stdout",
     "output_type": "stream",
     "text": [
      "Topic 1: 0.001*\"anni\" + 0.001*\"paziente\" + 0.001*\"seguenti\" + 0.001*\"viene\" + 0.001*\"dolore\" + 0.001*\"diagnosi\" + 0.001*\"soccorso\" + 0.001*\"uomo\" + 0.001*\"pronto\" + 0.001*\"qual\"\n",
      "Topic 2: 0.001*\"anni\" + 0.001*\"paziente\" + 0.001*\"viene\" + 0.001*\"seguenti\" + 0.001*\"diagnosi\" + 0.001*\"presenta\" + 0.001*\"soccorso\" + 0.001*\"uomo\" + 0.001*\"pronto\" + 0.001*\"giunge\"\n",
      "Topic 3: 0.002*\"anni\" + 0.001*\"viene\" + 0.001*\"paziente\" + 0.001*\"seguenti\" + 0.001*\"diagnosi\" + 0.001*\"uomo\" + 0.001*\"presenta\" + 0.001*\"terapia\" + 0.001*\"qual\" + 0.001*\"giunge\"\n",
      "Topic 4: 0.001*\"anni\" + 0.001*\"viene\" + 0.001*\"paziente\" + 0.001*\"seguenti\" + 0.001*\"diagnosi\" + 0.001*\"soccorso\" + 0.001*\"sinistro\" + 0.001*\"uomo\" + 0.001*\"pronto\" + 0.001*\"terapia\"\n",
      "Topic 5: 0.026*\"anni\" + 0.015*\"paziente\" + 0.013*\"viene\" + 0.012*\"seguenti\" + 0.007*\"diagnosi\" + 0.007*\"uomo\" + 0.006*\"presenta\" + 0.006*\"pronto\" + 0.006*\"qual\" + 0.006*\"soccorso\"\n"
     ]
    }
   ],
   "source": [
    "lda_model, corpus, dictionary = train_lda([single_text], num_topics=5)\n",
    "\n",
    "# Show topics\n",
    "for i, topic in lda_model.show_topics(num_topics=5, formatted=True):\n",
    "    print(f\"Topic {i+1}: {topic}\")\n"
   ]
  },
  {
   "cell_type": "code",
   "execution_count": 42,
   "id": "ea77dcc2",
   "metadata": {},
   "outputs": [
    {
     "data": {
      "text/html": [
       "\n",
       "<link rel=\"stylesheet\" type=\"text/css\" href=\"https://cdn.jsdelivr.net/gh/bmabey/pyLDAvis@3.4.0/pyLDAvis/js/ldavis.v1.0.0.css\">\n",
       "\n",
       "\n",
       "<div id=\"ldavis_el8943564120679848390677879\" style=\"background-color:white;\"></div>\n",
       "<script type=\"text/javascript\">\n",
       "\n",
       "var ldavis_el8943564120679848390677879_data = {\"mdsDat\": {\"x\": [-0.061464923250687156, 0.011567850996217122, 0.015181460304905239, 0.017336379462306366, 0.017379232487258443], \"y\": [-0.0, 0.0, -0.0, -0.0, 0.0], \"topics\": [1, 2, 3, 4, 5], \"cluster\": [1, 1, 1, 1, 1], \"Freq\": [99.97865206298736, 0.00533745491668036, 0.005336981251828085, 0.005336756060934415, 0.005336744783199837]}, \"tinfo\": {\"Term\": [\"anni\", \"paziente\", \"viene\", \"seguenti\", \"diagnosi\", \"uomo\", \"presenta\", \"soccorso\", \"qual\", \"pronto\", \"terapia\", \"dolore\", \"giunge\", \"sinistro\", \"donna\", \"durante\", \"prima\", \"circa\", \"essere\", \"esami\", \"febbre\", \"dopo\", \"ginocchio\", \"tale\", \"torace\", \"tc\", \"esegue\", \"presenza\", \"farmaci\", \"sospetto\", \"anni\", \"paziente\", \"seguenti\", \"viene\", \"diagnosi\", \"presenta\", \"uomo\", \"pronto\", \"qual\", \"soccorso\", \"terapia\", \"dolore\", \"sinistro\", \"giunge\", \"donna\", \"durante\", \"essere\", \"circa\", \"prima\", \"ginocchio\", \"dopo\", \"febbre\", \"esami\", \"presenza\", \"esegue\", \"tc\", \"torace\", \"tale\", \"riferisce\", \"ragazzo\", \"effetto\", \"diffusa\", \"dilatate\", \"desiderio\", \"assumendo\", \"90\", \"espresso\", \"biochimici\", \"estroprogestinico\", \"scopo\", \"quantificata\", \"anticorpi\", \"smesso\", \"verosimile\", \"versamento\", \"psicotici\", \"disturbo\", \"cartilagini\", \"estensione\", \"mialgie\", \"radioterapia\", \"situazioni\", \"diplococchi\", \"sistemiche\", \"leucopenia\", \"sedi\", \"destrimane\", \"positivi\", \"attualmente\", \"coma\", \"accertamenti\", \"eritematoso\", \"anni\", \"viene\", \"paziente\", \"diagnosi\", \"uomo\", \"seguenti\", \"presenta\", \"giunge\", \"terapia\", \"qual\", \"tale\", \"durante\", \"dolore\", \"pronto\", \"esami\", \"circa\", \"febbre\", \"prima\", \"soccorso\", \"mmhg\", \"torace\", \"fc\", \"essere\", \"opportuno\", \"farmaci\", \"tc\", \"sinistro\", \"respiratoria\", \"donna\", \"lamenta\", \"ginocchio\", \"igm\", \"90\", \"prepubere\", \"biochimici\", \"periferica\", \"patogeno\", \"fosfeni\", \"tpsv\", \"situazioni\", \"adeguati\", \"domiciliare\", \"aspetta\", \"vicinanze\", \"meningite\", \"tessuti\", \"ovaie\", \"chirurgo\", \"destrimane\", \"proteina\", \"fatto\", \"sensibilit\\u00e0\", \"devono\", \"fe\", \"rientrano\", \"suggestivo\", \"giocava\", \"correlata\", \"embolica\", \"tutte\", \"piena\", \"muscolari\", \"possesso\", \"visualizzare\", \"operato\", \"anni\", \"paziente\", \"seguenti\", \"dolore\", \"viene\", \"diagnosi\", \"soccorso\", \"uomo\", \"pronto\", \"qual\", \"esami\", \"febbre\", \"terapia\", \"giunge\", \"sinistro\", \"circa\", \"sospetto\", \"prima\", \"mesi\", \"lamenta\", \"essere\", \"presenta\", \"tc\", \"donna\", \"probabile\", \"dopo\", \"sintomatologia\", \"tale\", \"mmhg\", \"considerazione\", \"5\", \"torace\", \"durante\", \"farmaci\", \"opzioni\", \"disturbo\", \"resistenza\", \"sclerosi\", \"versamento\", \"proposta\", \"descritto\", \"esofagogastroduodenoscopia\", \"coma\", \"0\", \"leucopenia\", \"pazienti\", \"ovaie\", \"fluente\", \"identificata\", \"tracciato\", \"attualmente\", \"precoce\", \"ecocardiografico\", \"sensibilit\\u00e0\", \"presentati\", \"cricoidea\", \"sarcoma\", \"90\", \"mesotelioma\", \"morbillo\", \"effetto\", \"conduzione\", \"tipizzazione\", \"destrimane\", \"contrasto\", \"raffreddamento\", \"cose\", \"preoccupato\", \"trattabile\", \"infettivo\", \"linea\", \"anale\", \"infiltrazioni\", \"approfondimenti\", \"spontanea\", \"gastrico\", \"anni\", \"paziente\", \"viene\", \"diagnosi\", \"seguenti\", \"presenta\", \"soccorso\", \"uomo\", \"giunge\", \"sinistro\", \"pronto\", \"terapia\", \"qual\", \"donna\", \"presenza\", \"obiettivo\", \"prima\", \"dolore\", \"essere\", \"caso\", \"torace\", \"durante\", \"riferisce\", \"tale\", \"febbre\", \"farmaci\", \"risulta\", \"insorta\", \"esami\", \"esegue\", \"dopo\", \"circa\", \"desiderio\", \"assumendo\", \"aspetta\", \"chirurgo\", \"destrimane\", \"addensamento\", \"fluorangiografia\", \"segnala\", \"regolarmente\", \"frazione\", \"lavorativa\", \"situazioni\", \"accertamenti\", \"somatico\", \"aritmiche\", \"recidivante\", \"siero\", \"tracciato\", \"conoscere\", \"collaterali\", \"permette\", \"contrasto\", \"utilizzata\", \"comorbilit\\u00e0\", \"puntura\", \"plasmodium\", \"banderelle\", \"elementi\", \"metformina\", \"nullipara\", \"rispecchia\", \"chicco\", \"cricoidea\", \"precursori\", \"posteriore\", \"maggior\", \"anomala\", \"caratteristica\", \"preciso\", \"virt\\u00f9\", \"anni\", \"indicazioni\", \"viene\", \"paziente\", \"seguenti\", \"diagnosi\", \"sinistro\", \"soccorso\", \"uomo\", \"terapia\", \"pronto\", \"giunge\", \"dolore\", \"durante\", \"qual\", \"presenta\", \"essere\", \"donna\", \"presenza\", \"ginocchio\", \"dopo\", \"prima\", \"caso\", \"esami\", \"tale\", \"esegue\", \"base\", \"febbre\", \"parametri\", \"diagnostico\", \"ragazzo\", \"circa\", \"riferisce\"], \"Freq\": [97.0, 57.0, 49.0, 46.0, 26.0, 25.0, 24.0, 23.0, 23.0, 23.0, 22.0, 21.0, 19.0, 19.0, 17.0, 14.0, 13.0, 13.0, 13.0, 12.0, 12.0, 12.0, 12.0, 11.0, 11.0, 11.0, 11.0, 11.0, 10.0, 10.0, 97.27449761128305, 57.51485418437365, 46.44650112156402, 49.17359685426258, 26.947051164415434, 24.23252895416688, 25.110978100136837, 23.315304462019146, 23.314389388996393, 23.310830383614014, 22.380155715089895, 21.445415607640268, 19.614260187697674, 19.58816139700109, 17.77823951309595, 14.04658744322152, 13.125822282078312, 13.122133175665029, 13.120467183940402, 12.215035608057239, 12.212802061499799, 12.18563190191112, 12.182544403620618, 11.284869992560086, 11.284542557079616, 11.283192649738803, 11.275583049172702, 11.26066858132766, 10.357749963611935, 10.357283695487748, 0.00013043692510522232, 0.00013000509965122338, 0.00012966347333401976, 0.00012952855919878982, 0.00012952023850322498, 0.00012943206709896223, 0.0001294532534078374, 0.0001294116732372837, 0.00012946664343473378, 0.00012948336640131018, 0.00012947245859872098, 0.00012941935298291007, 0.00012946016401353764, 0.00012936624736709914, 0.00012933544680914695, 0.00012943984007367056, 0.00012927615311302101, 0.00012935011873592024, 0.00012934546893545752, 0.00012931030991792373, 0.00012932185867045142, 0.00012921062472203906, 0.00012934768312615407, 0.0001293160085455585, 0.00012925754225753494, 0.00012925138913812563, 0.00012916050243685082, 0.0001292074432796172, 0.0001292101702302645, 0.00012926192402438702, 0.00012925532806683842, 0.00012927044283175102, 0.00034508896184390754, 0.0002610092887592606, 0.00025714822963719816, 0.00021857789007270924, 0.0002145265737016389, 0.00023015705858837242, 0.00019249444398037753, 0.00018007681971611588, 0.00018123513279128052, 0.00018016800941190704, 0.00016467302134216572, 0.00016723792819138713, 0.00017262738488308584, 0.00017341674386639765, 0.00016340932444348165, 0.00016390254124795062, 0.0001621210150671604, 0.00016195646573750273, 0.0001694545195367744, 0.00015504125685136838, 0.00015714931789172006, 0.0001519089461557091, 0.00015819764395744355, 0.00015111550840006158, 0.00015487431852648548, 0.000155759365508793, 0.00016167752432428133, 0.00015306251620132908, 0.0001588290029541053, 0.00015191599660503225, 0.00015162895591531566, 0.00013032267859771347, 0.00013013746050387148, 0.00013027125566923754, 0.0001300908967100374, 0.00013018390777169497, 0.00013010870188445643, 0.00013019810063978553, 0.00013016307292100044, 0.00013002230950020073, 0.00013022504145343526, 0.00013018644803872596, 0.00013007206610672514, 0.00013019356777797334, 0.00013012882592648633, 0.00013017949143589338, 0.0001300661349327858, 0.0001300156558649957, 0.00012993991395810847, 0.00013015470635343966, 0.0001301644945383297, 0.00013003769093359937, 0.00013006958410269944, 0.00013001261453611916, 0.0001300085128205462, 0.00013012352399300423, 0.00013004721110866505, 0.00012994530911239905, 0.0001300192914765263, 0.00013010972731334968, 0.00013003868140468945, 0.00013006706714087057, 0.0001300683838847903, 0.00013005095159360517, 0.00013004867933639856, 0.0002776899430381006, 0.00021740159915004803, 0.00020162528240669878, 0.00017683453678886253, 0.00018874441562723442, 0.00016905186941458026, 0.00016663333710686178, 0.00016648892642193044, 0.00016400293720667807, 0.0001621146098997714, 0.0001541160431330573, 0.0001540410353400368, 0.0001598535158849689, 0.0001574994690715141, 0.00015373612172811085, 0.00015059374149517247, 0.00014696266282639646, 0.00014870000738137417, 0.00014619404560790568, 0.00014581182864055047, 0.00014822036301655983, 0.00015261993072521497, 0.0001467288067757318, 0.0001498900409171846, 0.0001449826178965499, 0.00014613359191360857, 0.0001430789674192499, 0.00014527937468773413, 0.000144049104720465, 0.00014118569940949397, 0.00014395460212587182, 0.00014469839930410572, 0.00014502816791409176, 0.00014418213081416115, 0.00013078511676706497, 0.00013064156277944558, 0.00013076463235876668, 0.00013076594904712715, 0.00013064568762616774, 0.0001307551125853994, 0.00013057061308540218, 0.00013077567855846337, 0.0001305957816416731, 0.00013066381830837033, 0.00013053510910810703, 0.0001306149843179391, 0.00013057076456282418, 0.00013058197389205224, 0.0001306340821252206, 0.00013060129308941208, 0.00013051568504176273, 0.00013061568344450216, 0.0001306295028462324, 0.0001305716501231374, 0.0001306358998542846, 0.00013063570176842507, 0.00013064540797554252, 0.00013037876110438322, 0.000130534806153263, 0.00013063672715405092, 0.00013032794625535658, 0.00013046801626226997, 0.00013053863969725058, 0.00013038971408720483, 0.00013051932049989076, 0.00013059286861432694, 0.00013062809294099687, 0.00013057793061009576, 0.0001306020388244127, 0.00013061194311738967, 0.0001306647504771211, 0.00013059931223081668, 0.00013063654072030076, 0.00013060334386066376, 0.0001306065132344164, 0.00013059856649581605, 0.00021383960464474132, 0.0001948842444004591, 0.00018200953743857838, 0.00016386135376770194, 0.00016767863141056456, 0.00015806134153983076, 0.00015431707601437262, 0.00015422544382617142, 0.00015209525179689956, 0.00015178508429718846, 0.0001528557034116727, 0.00015087195509314768, 0.00015005285841184138, 0.0001468964884132785, 0.00014423180247442145, 0.00014284950108600606, 0.00014390604445235362, 0.00014581130416206338, 0.00014284613362639388, 0.00014174633763001034, 0.00014210743649984195, 0.00014294930140288596, 0.00014151063876137682, 0.00014185325738572428, 0.00014161702252005906, 0.00014088598082937287, 0.00013950816550307058, 0.00013932731311331077, 0.00014122601268543695, 0.00014086915518342135, 0.00014081739651353455, 0.00014097391929889912, 0.000130787800018994, 0.00013075682877769864, 0.0001307309028891049, 0.00013068011145163068, 0.00013057624476806907, 0.00013066202741608126, 0.00013066829623768278, 0.00013062421640103105, 0.00013079208798618612, 0.00013061837870656566, 0.00013083121568681434, 0.00013050245211527618, 0.00013062658177423757, 0.00013067053343795694, 0.00013077421368816238, 0.00013069325500324135, 0.0001306854830627056, 0.00013064292964915758, 0.0001307046041337988, 0.00013056867091297425, 0.00013065091132721904, 0.00013060537497997215, 0.0001306698226607865, 0.0001305801132602098, 0.00013058811824244074, 0.00013069199657808714, 0.00013077241926710918, 0.00013057453191160916, 0.00013056754066075241, 0.00013063659091504747, 0.00013069684384534782, 0.00013061586185625726, 0.00013063787264437122, 0.0001306857860169094, 0.00013068095040173348, 0.0001306658026915439, 0.0001306507365459476, 0.00013067455340719957, 0.00013065121428142284, 0.00013068586758150275, 0.0002499485439548227, 0.00013066956631492177, 0.0001833733206359777, 0.00018189207266487557, 0.00016731784313096703, 0.00015641545350327231, 0.00015347191550297456, 0.00015347768328493136, 0.00015255021229419155, 0.0001502979691786082, 0.00015041156535294543, 0.00014853993758608773, 0.000148526456124019, 0.0001458802094143193, 0.0001488198556183068, 0.00014777096990435494, 0.00014382445540406458, 0.00014488395616723393, 0.00014209752322577186, 0.00014213187357164797, 0.0001419246878525085, 0.00014212907707130526, 0.00014105574528352436, 0.00014151920695490238, 0.00014105420720833588, 0.00014084488915768508, 0.0001392887532378225, 0.00014038612327646585, 0.00013941419958236193, 0.0001392872850751426, 0.00013944211797744984, 0.0001399954987869303, 0.0001393195030895074], \"Total\": [97.0, 57.0, 49.0, 46.0, 26.0, 25.0, 24.0, 23.0, 23.0, 23.0, 22.0, 21.0, 19.0, 19.0, 17.0, 14.0, 13.0, 13.0, 13.0, 12.0, 12.0, 12.0, 12.0, 11.0, 11.0, 11.0, 11.0, 11.0, 10.0, 10.0, 97.27558417833653, 57.5157055105195, 46.44726790037956, 49.174411990825035, 26.947759070982194, 24.233179900853028, 25.11166589129308, 23.315945148968986, 23.315030544329733, 23.311474266229954, 22.380797973662844, 21.446059407322224, 19.61488085834353, 19.588799608479263, 17.7788400125844, 14.047188538828443, 13.126415370674316, 13.122728641365857, 13.121063875535043, 12.215613770741207, 12.213381773906216, 12.186230067107324, 12.183144674207833, 11.28544656456742, 11.285119243091145, 11.28377012269072, 11.276165776927236, 11.261261441188285, 10.358322660170888, 10.357856680112626, 1.1080335439825546, 1.108796940480778, 1.1091575335441695, 1.1087952059465496, 1.1088068761382102, 1.1083759352212665, 1.1088821354932012, 1.1086878778052645, 1.1093952054019276, 1.1096509729587976, 1.1095980751841223, 1.1091566659581054, 1.1095338331615556, 1.109230508549642, 1.1090742112317917, 1.1099773146176584, 1.1086102243092453, 1.1094815910886533, 1.1095337255693307, 1.1092365069332262, 1.1094702458513757, 1.1086035711852449, 1.1098044399538494, 1.1096077863565788, 1.1092561442610211, 1.109299769937109, 1.1086593080555691, 1.1091036615525955, 1.1092237483971215, 1.1096719224816811, 1.1096726851052023, 1.1098898448326129, 97.27558417833653, 49.174411990825035, 57.5157055105195, 26.947759070982194, 25.11166589129308, 46.44726790037956, 24.233179900853028, 19.588799608479263, 22.380797973662844, 23.315030544329733, 11.261261441188285, 14.047188538828443, 21.446059407322224, 23.315945148968986, 12.183144674207833, 13.122728641365857, 12.186230067107324, 13.121063875535043, 23.311474266229954, 9.421498440562683, 11.276165776927236, 7.571880633509612, 13.126415370674316, 7.57258830247459, 10.35319273832569, 11.28377012269072, 19.61488085834353, 10.35663764624694, 17.7788400125844, 9.425352585889565, 12.215613770741207, 1.1096848001653945, 1.1083759352212665, 1.1100829194127673, 1.1086878778052645, 1.109500469126949, 1.1088927203377452, 1.10982136840859, 1.109794636527327, 1.1086035711852449, 1.1103535239618898, 1.1100541169527705, 1.1090817486402014, 1.1103044417904637, 1.1100099423469083, 1.1105872691197154, 1.1096359418109505, 1.1093050196524619, 1.1086593080555691, 1.1105761355943562, 1.110826454744732, 1.1097609342296373, 1.1100672060267116, 1.1096104135990548, 1.1095833542012736, 1.110627073268814, 1.1100957852040123, 1.1093898659054078, 1.1100409179355881, 1.1108452201087464, 1.1103291927021781, 1.1105891159277095, 1.1106494325892993, 1.110504150606493, 1.111187371158674, 97.27558417833653, 57.5157055105195, 46.44726790037956, 21.446059407322224, 49.174411990825035, 26.947759070982194, 23.311474266229954, 25.11166589129308, 23.315945148968986, 23.315030544329733, 12.183144674207833, 12.186230067107324, 22.380797973662844, 19.588799608479263, 19.61488085834353, 13.122728641365857, 10.3532434281295, 13.121063875535043, 9.433240624501565, 9.425352585889565, 13.126415370674316, 24.233179900853028, 11.28377012269072, 17.7788400125844, 9.427096888274974, 12.213381773906216, 7.572335345000402, 11.261261441188285, 9.421498440562683, 5.723724907506892, 9.4288385136592, 11.276165776927236, 14.047188538828443, 10.35319273832569, 1.1097091219961586, 1.1086102243092453, 1.1098869134102645, 1.1099370902906347, 1.1090742112317917, 1.1105304309919724, 1.1092449109274074, 1.1110323852155564, 1.1096719224816811, 1.1102896025685285, 1.1092561442610211, 1.1099534459477474, 1.1096359418109505, 1.1097657336087243, 1.1102165276973288, 1.1099382889035487, 1.1092237483971215, 1.110095560254994, 1.1102368099302928, 1.1097609342296373, 1.1104889911199531, 1.1104967363194667, 1.1106389597928907, 1.1083759352212665, 1.1097374783538705, 1.110649651979261, 1.1080335439825546, 1.1092625788650996, 1.109917994405941, 1.1086593080555691, 1.1097680219317674, 1.110468156143407, 1.1107987547345013, 1.11034610633404, 1.1106482358897256, 1.1108691026221418, 1.111952403633558, 1.1108447770394434, 1.1117712361569898, 1.1111346935209507, 1.1113914502388964, 1.1112307870827927, 97.27558417833653, 57.5157055105195, 49.174411990825035, 26.947759070982194, 46.44726790037956, 24.233179900853028, 23.311474266229954, 25.11166589129308, 19.588799608479263, 19.61488085834353, 23.315945148968986, 22.380797973662844, 23.315030544329733, 17.7788400125844, 11.28544656456742, 9.434548627463716, 13.121063875535043, 21.446059407322224, 13.126415370674316, 10.356561002912834, 11.276165776927236, 14.047188538828443, 10.358322660170888, 11.261261441188285, 12.186230067107324, 10.35319273832569, 7.5894865463375885, 7.5909001335590585, 12.183144674207833, 11.285119243091145, 12.213381773906216, 13.122728641365857, 1.1087952059465496, 1.1088068761382102, 1.1090817486402014, 1.1093050196524619, 1.1086593080555691, 1.1095861979994737, 1.109682835608798, 1.1093294394507662, 1.1108464148982897, 1.1094351394978477, 1.1113278622823681, 1.1086035711852449, 1.1096726851052023, 1.1101256633946401, 1.1110213711898789, 1.1103347569072866, 1.1102919008870962, 1.1099382889035487, 1.1105252056450898, 1.1093824548244309, 1.1101082128531847, 1.1097680219317674, 1.110337704625601, 1.1095918677793257, 1.109740425356852, 1.1106523777370978, 1.1113385486299252, 1.1096749804098334, 1.1096286232562707, 1.1102191473318936, 1.110787948667179, 1.1100955653521447, 1.1104967363194667, 1.1112736545274244, 1.111202533002511, 1.1109649818827285, 1.110770719832628, 1.1113395273516935, 1.1108135890479187, 1.1119273215243355, 97.27558417833653, 1.1124437669667129, 49.174411990825035, 57.5157055105195, 46.44726790037956, 26.947759070982194, 19.61488085834353, 23.311474266229954, 25.11166589129308, 22.380797973662844, 23.315945148968986, 19.588799608479263, 21.446059407322224, 14.047188538828443, 23.315030544329733, 24.233179900853028, 13.126415370674316, 17.7788400125844, 11.28544656456742, 12.215613770741207, 12.213381773906216, 13.121063875535043, 10.356561002912834, 12.183144674207833, 11.261261441188285, 11.285119243091145, 8.512846094176979, 12.186230067107324, 9.434967409064733, 9.43504511840352, 10.357856680112626, 13.122728641365857, 10.358322660170888], \"Category\": [\"Default\", \"Default\", \"Default\", \"Default\", \"Default\", \"Default\", \"Default\", \"Default\", \"Default\", \"Default\", \"Default\", \"Default\", \"Default\", \"Default\", \"Default\", \"Default\", \"Default\", \"Default\", \"Default\", \"Default\", \"Default\", \"Default\", \"Default\", \"Default\", \"Default\", \"Default\", \"Default\", \"Default\", \"Default\", \"Default\", \"Topic1\", \"Topic1\", \"Topic1\", \"Topic1\", \"Topic1\", \"Topic1\", \"Topic1\", \"Topic1\", \"Topic1\", \"Topic1\", \"Topic1\", \"Topic1\", \"Topic1\", \"Topic1\", \"Topic1\", \"Topic1\", \"Topic1\", \"Topic1\", \"Topic1\", \"Topic1\", \"Topic1\", \"Topic1\", \"Topic1\", \"Topic1\", \"Topic1\", \"Topic1\", \"Topic1\", \"Topic1\", \"Topic1\", \"Topic1\", \"Topic2\", \"Topic2\", \"Topic2\", \"Topic2\", \"Topic2\", \"Topic2\", \"Topic2\", \"Topic2\", \"Topic2\", \"Topic2\", \"Topic2\", \"Topic2\", \"Topic2\", \"Topic2\", \"Topic2\", \"Topic2\", \"Topic2\", \"Topic2\", \"Topic2\", \"Topic2\", \"Topic2\", \"Topic2\", \"Topic2\", \"Topic2\", \"Topic2\", \"Topic2\", \"Topic2\", \"Topic2\", \"Topic2\", \"Topic2\", \"Topic2\", \"Topic2\", \"Topic2\", \"Topic2\", \"Topic2\", \"Topic2\", \"Topic2\", \"Topic2\", \"Topic2\", \"Topic2\", \"Topic2\", \"Topic2\", \"Topic2\", \"Topic2\", \"Topic2\", \"Topic2\", \"Topic2\", \"Topic2\", \"Topic2\", \"Topic2\", \"Topic2\", \"Topic2\", \"Topic2\", \"Topic2\", \"Topic2\", \"Topic2\", \"Topic2\", \"Topic2\", \"Topic2\", \"Topic2\", \"Topic2\", \"Topic2\", \"Topic2\", \"Topic3\", \"Topic3\", \"Topic3\", \"Topic3\", \"Topic3\", \"Topic3\", \"Topic3\", \"Topic3\", \"Topic3\", \"Topic3\", \"Topic3\", \"Topic3\", \"Topic3\", \"Topic3\", \"Topic3\", \"Topic3\", \"Topic3\", \"Topic3\", \"Topic3\", \"Topic3\", \"Topic3\", \"Topic3\", \"Topic3\", \"Topic3\", \"Topic3\", \"Topic3\", \"Topic3\", \"Topic3\", \"Topic3\", \"Topic3\", \"Topic3\", \"Topic3\", \"Topic3\", \"Topic3\", \"Topic3\", \"Topic3\", \"Topic3\", \"Topic3\", \"Topic3\", \"Topic3\", \"Topic3\", \"Topic3\", \"Topic3\", \"Topic3\", \"Topic3\", \"Topic3\", \"Topic3\", \"Topic3\", \"Topic3\", \"Topic3\", \"Topic3\", \"Topic3\", \"Topic3\", \"Topic3\", \"Topic3\", \"Topic3\", \"Topic3\", \"Topic3\", \"Topic3\", \"Topic3\", \"Topic3\", \"Topic3\", \"Topic3\", \"Topic3\", \"Topic3\", \"Topic3\", \"Topic3\", \"Topic3\", \"Topic4\", \"Topic4\", \"Topic4\", \"Topic4\", \"Topic4\", \"Topic4\", \"Topic4\", \"Topic4\", \"Topic4\", \"Topic4\", \"Topic4\", \"Topic4\", \"Topic4\", \"Topic4\", \"Topic4\", \"Topic4\", \"Topic4\", \"Topic4\", \"Topic4\", \"Topic4\", \"Topic4\", \"Topic4\", \"Topic4\", \"Topic4\", \"Topic4\", \"Topic4\", \"Topic4\", \"Topic4\", \"Topic4\", \"Topic4\", \"Topic4\", \"Topic4\", \"Topic4\", \"Topic4\", \"Topic4\", \"Topic4\", \"Topic4\", \"Topic4\", \"Topic4\", \"Topic4\", \"Topic4\", \"Topic4\", \"Topic4\", \"Topic4\", \"Topic4\", \"Topic4\", \"Topic4\", \"Topic4\", \"Topic4\", \"Topic4\", \"Topic4\", \"Topic4\", \"Topic4\", \"Topic4\", \"Topic4\", \"Topic4\", \"Topic4\", \"Topic4\", \"Topic4\", \"Topic4\", \"Topic4\", \"Topic4\", \"Topic4\", \"Topic4\", \"Topic4\", \"Topic4\", \"Topic4\", \"Topic4\", \"Topic4\", \"Topic4\", \"Topic4\", \"Topic4\", \"Topic4\", \"Topic4\", \"Topic5\", \"Topic5\", \"Topic5\", \"Topic5\", \"Topic5\", \"Topic5\", \"Topic5\", \"Topic5\", \"Topic5\", \"Topic5\", \"Topic5\", \"Topic5\", \"Topic5\", \"Topic5\", \"Topic5\", \"Topic5\", \"Topic5\", \"Topic5\", \"Topic5\", \"Topic5\", \"Topic5\", \"Topic5\", \"Topic5\", \"Topic5\", \"Topic5\", \"Topic5\", \"Topic5\", \"Topic5\", \"Topic5\", \"Topic5\", \"Topic5\", \"Topic5\", \"Topic5\", \"Topic5\", \"Topic5\", \"Topic5\", \"Topic5\", \"Topic5\", \"Topic5\", \"Topic5\", \"Topic5\", \"Topic5\", \"Topic5\", \"Topic5\", \"Topic5\", \"Topic5\", \"Topic5\", \"Topic5\", \"Topic5\", \"Topic5\", \"Topic5\", \"Topic5\", \"Topic5\", \"Topic5\", \"Topic5\", \"Topic5\", \"Topic5\", \"Topic5\", \"Topic5\", \"Topic5\", \"Topic5\", \"Topic5\", \"Topic5\", \"Topic5\", \"Topic5\", \"Topic5\", \"Topic5\", \"Topic5\", \"Topic5\", \"Topic5\", \"Topic5\", \"Topic5\", \"Topic5\"], \"logprob\": [30.0, 29.0, 28.0, 27.0, 26.0, 25.0, 24.0, 23.0, 22.0, 21.0, 20.0, 19.0, 18.0, 17.0, 16.0, 15.0, 14.0, 13.0, 12.0, 11.0, 10.0, 9.0, 8.0, 7.0, 6.0, 5.0, 4.0, 3.0, 2.0, 1.0, -3.652, -4.1775, -4.3913, -4.3342, -4.9357, -5.0419, -5.0063, -5.0805, -5.0805, -5.0806, -5.1214, -5.1641, -5.2533, -5.2546, -5.3516, -5.5872, -5.655, -5.6553, -5.6554, -5.7269, -5.7271, -5.7293, -5.7296, -5.8061, -5.8061, -5.8062, -5.8069, -5.8082, -5.8918, -5.8919, -7.3362, -7.3395, -7.3422, -7.3432, -7.3433, -7.344, -7.3438, -7.3441, -7.3437, -7.3436, -7.3436, -7.3441, -7.3437, -7.3445, -7.3447, -7.3439, -7.3452, -7.3446, -7.3446, -7.3449, -7.3448, -7.3457, -7.3446, -7.3449, -7.3453, -7.3454, -7.3461, -7.3457, -7.3457, -7.3453, -7.3453, -7.3452, -6.3633, -6.6426, -6.6575, -6.82, -6.8387, -6.7683, -6.947, -7.0137, -7.0073, -7.0132, -7.1031, -7.0877, -7.056, -7.0514, -7.1109, -7.1078, -7.1188, -7.1198, -7.0745, -7.1634, -7.1499, -7.1838, -7.1433, -7.1891, -7.1645, -7.1588, -7.1215, -7.1763, -7.1393, -7.1838, -7.1857, -7.337, -7.3384, -7.3374, -7.3388, -7.3381, -7.3387, -7.338, -7.3382, -7.3393, -7.3378, -7.3381, -7.3389, -7.338, -7.3385, -7.3381, -7.339, -7.3394, -7.34, -7.3383, -7.3382, -7.3392, -7.339, -7.3394, -7.3394, -7.3385, -7.3391, -7.3399, -7.3393, -7.3386, -7.3392, -7.339, -7.339, -7.3391, -7.3391, -6.5805, -6.8253, -6.9006, -7.0318, -6.9666, -7.0768, -7.0912, -7.0921, -7.1071, -7.1187, -7.1693, -7.1698, -7.1328, -7.1476, -7.1718, -7.1924, -7.2168, -7.2051, -7.2221, -7.2247, -7.2083, -7.1791, -7.2184, -7.1971, -7.2304, -7.2225, -7.2436, -7.2284, -7.2369, -7.2569, -7.2375, -7.2324, -7.2301, -7.2359, -7.3334, -7.3345, -7.3336, -7.3336, -7.3345, -7.3337, -7.3351, -7.3335, -7.3349, -7.3344, -7.3353, -7.3347, -7.3351, -7.335, -7.3346, -7.3348, -7.3355, -7.3347, -7.3346, -7.3351, -7.3346, -7.3346, -7.3345, -7.3365, -7.3353, -7.3346, -7.3369, -7.3359, -7.3353, -7.3365, -7.3355, -7.3349, -7.3346, -7.335, -7.3348, -7.3348, -7.3343, -7.3348, -7.3346, -7.3348, -7.3348, -7.3349, -6.8418, -6.9346, -7.0029, -7.108, -7.0849, -7.144, -7.168, -7.1686, -7.1825, -7.1845, -7.1775, -7.1905, -7.196, -7.2173, -7.2356, -7.2452, -7.2378, -7.2247, -7.2452, -7.2529, -7.2504, -7.2445, -7.2546, -7.2522, -7.2539, -7.259, -7.2689, -7.2702, -7.2566, -7.2591, -7.2595, -7.2584, -7.3334, -7.3336, -7.3338, -7.3342, -7.335, -7.3344, -7.3343, -7.3347, -7.3334, -7.3347, -7.3331, -7.3356, -7.3346, -7.3343, -7.3335, -7.3341, -7.3342, -7.3345, -7.334, -7.3351, -7.3344, -7.3348, -7.3343, -7.335, -7.3349, -7.3341, -7.3335, -7.335, -7.3351, -7.3346, -7.3341, -7.3347, -7.3345, -7.3342, -7.3342, -7.3343, -7.3345, -7.3343, -7.3344, -7.3342, -6.6857, -7.3343, -6.9955, -7.0036, -7.0871, -7.1545, -7.1735, -7.1734, -7.1795, -7.1944, -7.1936, -7.2061, -7.2062, -7.2242, -7.2042, -7.2113, -7.2384, -7.231, -7.2505, -7.2502, -7.2517, -7.2502, -7.2578, -7.2545, -7.2578, -7.2593, -7.2704, -7.2626, -7.2695, -7.2704, -7.2693, -7.2654, -7.2702], \"loglift\": [30.0, 29.0, 28.0, 27.0, 26.0, 25.0, 24.0, 23.0, 22.0, 21.0, 20.0, 19.0, 18.0, 17.0, 16.0, 15.0, 14.0, 13.0, 12.0, 11.0, 10.0, 9.0, 8.0, 7.0, 6.0, 5.0, 4.0, 3.0, 2.0, 1.0, 0.0002, 0.0002, 0.0002, 0.0002, 0.0002, 0.0002, 0.0002, 0.0002, 0.0002, 0.0002, 0.0002, 0.0002, 0.0002, 0.0002, 0.0002, 0.0002, 0.0002, 0.0002, 0.0002, 0.0002, 0.0002, 0.0002, 0.0002, 0.0002, 0.0002, 0.0002, 0.0002, 0.0002, 0.0002, 0.0002, 0.791, 0.787, 0.784, 0.7833, 0.7832, 0.7829, 0.7826, 0.7825, 0.7823, 0.7822, 0.7821, 0.7821, 0.7821, 0.7816, 0.7815, 0.7815, 0.7815, 0.7813, 0.7812, 0.7812, 0.7811, 0.781, 0.781, 0.7809, 0.7808, 0.7807, 0.7806, 0.7805, 0.7804, 0.7804, 0.7804, 0.7803, -2.7111, -2.3082, -2.4797, -1.8841, -1.8322, -2.3769, -1.905, -1.7589, -1.8857, -1.9325, -1.2947, -1.5003, -1.8917, -1.9708, -1.3811, -1.4524, -1.3893, -1.4642, -1.9937, -1.1766, -1.3428, -0.9785, -1.4881, -0.9838, -1.272, -1.3524, -1.868, -1.2841, -1.7875, -1.1974, -1.4586, 0.7887, 0.7885, 0.7879, 0.7878, 0.7878, 0.7878, 0.7876, 0.7874, 0.7874, 0.7873, 0.7873, 0.7873, 0.7871, 0.7869, 0.7868, 0.7868, 0.7867, 0.7867, 0.7866, 0.7864, 0.7864, 0.7864, 0.7864, 0.7864, 0.7863, 0.7862, 0.7861, 0.786, 0.786, 0.7859, 0.7859, 0.7859, 0.7859, 0.7852, -2.9283, -2.6476, -2.5092, -1.8676, -2.6322, -2.1409, -2.0104, -2.0856, -2.0265, -2.038, -1.4396, -1.4403, -2.0112, -1.8928, -1.9183, -1.537, -1.3244, -1.5495, -1.2366, -1.2383, -1.5532, -2.137, -1.412, -1.8454, -1.2442, -1.4953, -1.0384, -1.42, -1.2501, -0.7718, -1.2515, -1.4253, -1.6427, -1.3435, 0.7923, 0.7921, 0.7919, 0.7919, 0.7918, 0.7913, 0.791, 0.791, 0.7908, 0.7908, 0.7907, 0.7907, 0.7907, 0.7906, 0.7906, 0.7906, 0.7906, 0.7906, 0.7906, 0.7906, 0.7904, 0.7904, 0.7903, 0.7903, 0.7903, 0.7903, 0.7903, 0.7902, 0.7902, 0.7902, 0.7902, 0.7901, 0.7901, 0.7901, 0.79, 0.7899, 0.7893, 0.7898, 0.7893, 0.7896, 0.7894, 0.7895, -3.1895, -2.7569, -2.6685, -2.1721, -2.6935, -2.1019, -2.0871, -2.1621, -1.9277, -1.931, -2.0968, -2.069, -2.1153, -1.8655, -1.4293, -1.2598, -1.5823, -2.0604, -1.5901, -1.3608, -1.4433, -1.6571, -1.3626, -1.4438, -1.5244, -1.3665, -1.0658, -1.0673, -1.5269, -1.4529, -1.5323, -1.603, 0.7931, 0.7929, 0.7924, 0.7918, 0.7916, 0.7914, 0.7914, 0.7914, 0.7913, 0.7912, 0.7912, 0.7911, 0.7911, 0.791, 0.791, 0.791, 0.791, 0.791, 0.7909, 0.7909, 0.7909, 0.7908, 0.7908, 0.7908, 0.7907, 0.7907, 0.7907, 0.7907, 0.7907, 0.7907, 0.7906, 0.7906, 0.7904, 0.7901, 0.7901, 0.7902, 0.7903, 0.7899, 0.7902, 0.7895, -3.0335, 0.7889, -2.6611, -2.8258, -2.6956, -2.2186, -1.92, -2.0926, -2.173, -2.0728, -2.113, -1.9513, -2.042, -1.6368, -2.1236, -2.1693, -1.5832, -1.8793, -1.4442, -1.5232, -1.5244, -1.5947, -1.3657, -1.5248, -1.4494, -1.453, -1.1822, -1.5331, -1.2842, -1.2851, -1.3773, -1.6099, -1.3782]}, \"token.table\": {\"Topic\": [1, 1, 1, 1, 1, 1, 1, 1, 1, 1, 1, 1, 1, 1, 1, 1, 1, 1, 1, 1, 1, 1, 1, 1, 1, 1, 1, 1, 1, 1, 1, 1, 1, 1, 1, 1, 1, 1, 1, 1, 1, 1, 1, 1, 1, 1, 1, 1, 1, 1, 1, 1, 1, 1, 1, 1, 1, 1, 1, 1, 1, 1, 1, 1, 1, 1, 1, 1, 1, 1, 1, 1, 1, 1, 1, 1, 1, 1, 1, 1, 1, 1, 1, 1, 1, 1, 1, 1, 1, 1, 1, 1, 1, 1, 1, 1, 1, 1, 1, 1, 1, 1, 1, 1, 1, 1, 1, 1, 1, 1, 1, 1, 1, 1, 1, 1, 1, 1, 1, 1, 1, 1, 1, 1, 1, 1, 1, 1, 1, 1, 1, 1, 1, 1, 1, 1, 1, 1, 1, 1, 1, 1, 1, 1, 1, 1, 1, 1, 1, 1, 1, 1, 1, 1, 1, 1, 1, 1, 1, 1, 1, 1, 1, 1, 1, 1, 1, 1, 1, 1, 1, 1, 1, 1], \"Freq\": [0.900665914268326, 0.954518415705396, 0.9022209597146916, 0.9011666353715783, 0.9012368771375745, 0.900614064277354, 0.9002157823212167, 0.9971669748306903, 0.900275801427932, 0.9015858901557299, 0.8999808986534401, 0.9000726952074941, 0.9016467913443333, 0.9018703089963093, 0.9015313650154401, 0.8998158133116276, 1.05722573865822, 0.9019671090655192, 0.8998150208721415, 0.9013218498008363, 0.9655714862479399, 0.9008233445944628, 0.9014653159266273, 0.9906476278889904, 0.901402393422797, 0.9011672546995604, 0.9012322720076738, 0.9014998063155727, 0.9004748338144318, 1.0482684085901408, 0.9010892188615286, 0.901396371765005, 0.9002530798110374, 0.90049791889917, 0.9015141653108231, 0.9018798012806396, 0.9019903524319458, 0.9008463582843081, 1.001938600121821, 0.9538905100141023, 0.901878390434949, 0.9015851849327744, 0.9010596497898175, 0.902030288078104, 0.9792008686141227, 0.9008569805093088, 1.012439506022837, 0.9825288541817219, 0.9966407129299926, 0.900708741644754, 0.9024997532166269, 0.9011647713555483, 0.9008676922106277, 0.9009903141791645, 0.9849673726196853, 0.9747349374916267, 0.9000637724938914, 0.9018090994452054, 0.9903693912538575, 0.9012794987253532, 0.9013920333626335, 0.9658856212520576, 0.9002306307422253, 1.0565406914361184, 0.9012172089810061, 0.9847179918578765, 0.9010910768962119, 0.9011583922097673, 0.9010459056432959, 0.9013595877742072, 0.899903072902798, 0.9823493297358792, 0.9008231661885113, 1.0209916074358505, 0.9007251964389991, 0.9011567968228038, 0.8989218418893101, 0.900196069581518, 0.8994656161969575, 1.053893459173877, 0.9548714404035825, 0.8998244657938022, 0.901505035760873, 0.8993190686330387, 0.9001183802439222, 0.9008928315413889, 0.9540729806704727, 0.9011140197619985, 0.9012024194774654, 0.9015209955221912, 0.9552620590852097, 0.9003739371978597, 0.9004230148290883, 0.9007230711190893, 0.9539407082816069, 0.8999382336007518, 1.056441956231232, 0.9011370458964846, 0.9011964756368451, 0.9538983665543102, 0.9018004913003859, 1.0084202129693414, 0.9009386867988303, 0.9013065139006985, 0.900813081483123, 0.9006337999330875, 0.9003717275043819, 0.9016289772230441, 0.9003741150514631, 0.8999259543604192, 0.9002410574190964, 0.9008233487307123, 0.8998683590904131, 0.9006200807977227, 0.9008336066723727, 0.9903776598115867, 0.9005041994981665, 0.974706666419065, 0.9907733186360922, 0.9546947598675708, 0.9864493955981468, 0.9004705968361065, 0.9004335389080027, 0.9009193132424143, 0.9011116267828457, 0.9864880921459334, 0.9012272302599875, 0.9013310665511617, 0.9005210950604322, 0.9654507017074565, 0.9006292865994651, 0.9002144550212741, 0.9009926938658792, 0.9655643406259193, 0.9012391869557592, 0.9654072698904538, 0.9002618377340948, 1.0540897531283602, 0.900382605150532, 0.9009519627262407, 0.9011842681790097, 0.9014695820740091, 0.901445471865512, 0.9903704152989394, 0.9010949738415238, 0.9006640498782567, 1.019634029104625, 1.0564772471787005, 0.9012193428125822, 0.9020357014824215, 0.901279411327688, 0.9866385856736153, 0.9007989212159205, 0.9658808922458302, 0.8997729825841718, 0.9003922415260285, 0.976799984393159, 0.9748514796379907, 0.9829855050695262, 0.9004245121525928, 0.9009674633982557, 0.9755088935024072, 0.9010676093453769, 0.9009509897958822, 0.9003750851851966, 0.900215423263112, 0.9955532264654813, 0.9006268956138833, 0.9015258706754607, 0.9016529190498005, 0.9006538768658908, 0.9964531962098993, 0.8993393548681807, 0.9004919067198965], \"Term\": [\"0\", \"5\", \"90\", \"accertamenti\", \"addensamento\", \"adeguati\", \"anale\", \"anni\", \"anomala\", \"anticorpi\", \"approfondimenti\", \"aritmiche\", \"aspetta\", \"assumendo\", \"attualmente\", \"banderelle\", \"base\", \"biochimici\", \"caratteristica\", \"cartilagini\", \"caso\", \"chicco\", \"chirurgo\", \"circa\", \"collaterali\", \"coma\", \"comorbilit\\u00e0\", \"conduzione\", \"conoscere\", \"considerazione\", \"contrasto\", \"correlata\", \"cose\", \"cricoidea\", \"descritto\", \"desiderio\", \"destrimane\", \"devono\", \"diagnosi\", \"diagnostico\", \"diffusa\", \"dilatate\", \"diplococchi\", \"disturbo\", \"dolore\", \"domiciliare\", \"donna\", \"dopo\", \"durante\", \"ecocardiografico\", \"effetto\", \"elementi\", \"embolica\", \"eritematoso\", \"esami\", \"esegue\", \"esofagogastroduodenoscopia\", \"espresso\", \"essere\", \"estensione\", \"estroprogestinico\", \"farmaci\", \"fatto\", \"fc\", \"fe\", \"febbre\", \"fluente\", \"fluorangiografia\", \"fosfeni\", \"frazione\", \"gastrico\", \"ginocchio\", \"giocava\", \"giunge\", \"identificata\", \"igm\", \"indicazioni\", \"infettivo\", \"infiltrazioni\", \"insorta\", \"lamenta\", \"lavorativa\", \"leucopenia\", \"linea\", \"maggior\", \"meningite\", \"mesi\", \"mesotelioma\", \"metformina\", \"mialgie\", \"mmhg\", \"morbillo\", \"muscolari\", \"nullipara\", \"obiettivo\", \"operato\", \"opportuno\", \"opzioni\", \"ovaie\", \"parametri\", \"patogeno\", \"paziente\", \"pazienti\", \"periferica\", \"permette\", \"piena\", \"plasmodium\", \"positivi\", \"possesso\", \"posteriore\", \"preciso\", \"precoce\", \"precursori\", \"preoccupato\", \"prepubere\", \"presenta\", \"presentati\", \"presenza\", \"prima\", \"probabile\", \"pronto\", \"proposta\", \"proteina\", \"psicotici\", \"puntura\", \"qual\", \"quantificata\", \"radioterapia\", \"raffreddamento\", \"ragazzo\", \"recidivante\", \"regolarmente\", \"resistenza\", \"respiratoria\", \"rientrano\", \"riferisce\", \"rispecchia\", \"risulta\", \"sarcoma\", \"sclerosi\", \"scopo\", \"sedi\", \"segnala\", \"seguenti\", \"sensibilit\\u00e0\", \"siero\", \"sinistro\", \"sintomatologia\", \"sistemiche\", \"situazioni\", \"smesso\", \"soccorso\", \"somatico\", \"sospetto\", \"spontanea\", \"suggestivo\", \"tale\", \"tc\", \"terapia\", \"tessuti\", \"tipizzazione\", \"torace\", \"tpsv\", \"tracciato\", \"trattabile\", \"tutte\", \"uomo\", \"utilizzata\", \"verosimile\", \"versamento\", \"vicinanze\", \"viene\", \"virt\\u00f9\", \"visualizzare\"]}, \"R\": 30, \"lambda.step\": 0.01, \"plot.opts\": {\"xlab\": \"PC1\", \"ylab\": \"PC2\"}, \"topic.order\": [5, 3, 1, 2, 4]};\n",
       "\n",
       "function LDAvis_load_lib(url, callback){\n",
       "  var s = document.createElement('script');\n",
       "  s.src = url;\n",
       "  s.async = true;\n",
       "  s.onreadystatechange = s.onload = callback;\n",
       "  s.onerror = function(){console.warn(\"failed to load library \" + url);};\n",
       "  document.getElementsByTagName(\"head\")[0].appendChild(s);\n",
       "}\n",
       "\n",
       "if(typeof(LDAvis) !== \"undefined\"){\n",
       "   // already loaded: just create the visualization\n",
       "   !function(LDAvis){\n",
       "       new LDAvis(\"#\" + \"ldavis_el8943564120679848390677879\", ldavis_el8943564120679848390677879_data);\n",
       "   }(LDAvis);\n",
       "}else if(typeof define === \"function\" && define.amd){\n",
       "   // require.js is available: use it to load d3/LDAvis\n",
       "   require.config({paths: {d3: \"https://d3js.org/d3.v5\"}});\n",
       "   require([\"d3\"], function(d3){\n",
       "      window.d3 = d3;\n",
       "      LDAvis_load_lib(\"https://cdn.jsdelivr.net/gh/bmabey/pyLDAvis@3.4.0/pyLDAvis/js/ldavis.v3.0.0.js\", function(){\n",
       "        new LDAvis(\"#\" + \"ldavis_el8943564120679848390677879\", ldavis_el8943564120679848390677879_data);\n",
       "      });\n",
       "    });\n",
       "}else{\n",
       "    // require.js not available: dynamically load d3 & LDAvis\n",
       "    LDAvis_load_lib(\"https://d3js.org/d3.v5.js\", function(){\n",
       "         LDAvis_load_lib(\"https://cdn.jsdelivr.net/gh/bmabey/pyLDAvis@3.4.0/pyLDAvis/js/ldavis.v3.0.0.js\", function(){\n",
       "                 new LDAvis(\"#\" + \"ldavis_el8943564120679848390677879\", ldavis_el8943564120679848390677879_data);\n",
       "            })\n",
       "         });\n",
       "}\n",
       "</script>"
      ],
      "text/plain": [
       "<IPython.core.display.HTML object>"
      ]
     },
     "execution_count": 42,
     "metadata": {},
     "output_type": "execute_result"
    }
   ],
   "source": [
    "import pyLDAvis\n",
    "import pyLDAvis.gensim_models as gensimvis\n",
    "\n",
    "vis = gensimvis.prepare(lda_model, corpus, dictionary)\n",
    "pyLDAvis.display(vis)\n"
   ]
  },
  {
   "cell_type": "code",
   "execution_count": 46,
   "id": "977cc58e",
   "metadata": {},
   "outputs": [
    {
     "name": "stdout",
     "output_type": "stream",
     "text": [
      "Topic 0: 0.001*\"anni\" + 0.001*\"paziente\" + 0.001*\"seguenti\" + 0.001*\"viene\" + 0.001*\"dolore\" + 0.001*\"diagnosi\" + 0.001*\"soccorso\" + 0.001*\"uomo\" + 0.001*\"pronto\" + 0.001*\"qual\"\n",
      "Topic 1: 0.001*\"anni\" + 0.001*\"paziente\" + 0.001*\"viene\" + 0.001*\"seguenti\" + 0.001*\"diagnosi\" + 0.001*\"presenta\" + 0.001*\"soccorso\" + 0.001*\"uomo\" + 0.001*\"pronto\" + 0.001*\"giunge\"\n",
      "Topic 2: 0.002*\"anni\" + 0.001*\"viene\" + 0.001*\"paziente\" + 0.001*\"seguenti\" + 0.001*\"diagnosi\" + 0.001*\"uomo\" + 0.001*\"presenta\" + 0.001*\"terapia\" + 0.001*\"qual\" + 0.001*\"giunge\"\n",
      "Topic 3: 0.001*\"anni\" + 0.001*\"viene\" + 0.001*\"paziente\" + 0.001*\"seguenti\" + 0.001*\"diagnosi\" + 0.001*\"soccorso\" + 0.001*\"sinistro\" + 0.001*\"uomo\" + 0.001*\"pronto\" + 0.001*\"terapia\"\n",
      "Topic 4: 0.026*\"anni\" + 0.015*\"paziente\" + 0.013*\"viene\" + 0.012*\"seguenti\" + 0.007*\"diagnosi\" + 0.007*\"uomo\" + 0.006*\"presenta\" + 0.006*\"pronto\" + 0.006*\"qual\" + 0.006*\"soccorso\"\n"
     ]
    }
   ],
   "source": [
    "# Assuming lda_model is already trained and available\n",
    "topics = lda_model.print_topics(num_words=10)  # Adjust the number of words as needed\n",
    "\n",
    "# Display each topic with its top words\n",
    "for topic in topics:\n",
    "    print(f\"Topic {topic[0]}: {topic[1]}\")\n"
   ]
  }
 ],
 "metadata": {
  "kernelspec": {
   "display_name": "topic-modeling",
   "language": "python",
   "name": "python3"
  },
  "language_info": {
   "codemirror_mode": {
    "name": "ipython",
    "version": 3
   },
   "file_extension": ".py",
   "mimetype": "text/x-python",
   "name": "python",
   "nbconvert_exporter": "python",
   "pygments_lexer": "ipython3",
   "version": "3.11.11"
  }
 },
 "nbformat": 4,
 "nbformat_minor": 5
}
